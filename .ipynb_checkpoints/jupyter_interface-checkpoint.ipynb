{
 "cells": [
  {
   "cell_type": "markdown",
   "metadata": {},
   "source": [
    "# pardigm_control.ipynb\n",
    "2020/03/24 wi\n",
    "- **Windows 10 Codec Pack**<BR>\n",
    "    https://www.windows10codecpack.com/"
   ]
  },
  {
   "cell_type": "markdown",
   "metadata": {},
   "source": [
    "---\n",
    "### Step 1. Initialize PCBox"
   ]
  },
  {
   "cell_type": "code",
   "execution_count": 2,
   "metadata": {},
   "outputs": [
    {
     "name": "stdout",
     "output_type": "stream",
     "text": [
      "> \n",
      "\n",
      "> set_verbose -off\n",
      "ERROR: Command not found at 'set_verbose'\n",
      "set_camera [-start] [-stop] [-status] [-fps <-1>] [-exposure <-1.0>]\n",
      "\n",
      "\n",
      "\n"
     ]
    }
   ],
   "source": [
    "import serial, time\n",
    "import  teensy_control_tl_cam as ca\n",
    "\n",
    "arduino = serial.Serial('COM4', 115200, timeout=.1)\n",
    "\n",
    "def commu_arduino(commandStr):\n",
    "    commandStr = commandStr + \"\\n\"\n",
    "    arduino.write(commandStr.encode()) # Need to encode bytes literal\n",
    "    time.sleep(0.1)\n",
    "\n",
    "    msg = arduino.read(arduino.inWaiting()) # read everything in the input buffer\n",
    "    if msg.decode(\"utf-8\") != \"\":\n",
    "        _msg = msg.decode(\"utf-8\")\n",
    "        print (_msg.replace(\"\\r\", \"\"))\n",
    "        # print (_msg[:-2]) # Need to decode to string\n",
    "        # print (_msg.replace(\"\\r\", \"\").encode())\n",
    "def volume_set(volume):\n",
    "    loop = int((202 - volume)/2)\n",
    "    \n",
    "    commu_arduino(\"v\") # Issue independent command to wait to enter volume adjust mode\n",
    "    for x in range(loop):\n",
    "        commu_arduino(\"-\")\n",
    "    commu_arduino(\"x\")\n",
    "\n",
    "\n",
    "# Opening welcome\n",
    "time.sleep(3) #give the connection a second to settle\n",
    "commu_arduino(\"\")\n",
    "commu_arduino(\"set_verbose -off\")"
   ]
  },
  {
   "cell_type": "code",
   "execution_count": 3,
   "metadata": {},
   "outputs": [],
   "source": [
    "arduino.close()"
   ]
  },
  {
   "cell_type": "markdown",
   "metadata": {},
   "source": [
    "### Step 2. Set paradigm time table"
   ]
  },
  {
   "cell_type": "code",
   "execution_count": null,
   "metadata": {},
   "outputs": [],
   "source": [
    "# 4 pairing\n",
    "commu_arduino(\"set_paradigm -clear\")\n",
    "commu_arduino(\"set_paradigm -paradigm_name 4_pairing\")\n",
    "commu_arduino(\"set_paradigm -paradigm_duration 540.0\")\n",
    "commu_arduino(\"set_paradigm -tone -epoch 0 -start 120.0 -end 150.0\")\n",
    "commu_arduino(\"set_paradigm -tone -epoch 1 -start 210.0 -end 240.0\")\n",
    "commu_arduino(\"set_paradigm -tone -epoch 2 -start 360.0 -end 390.0\")\n",
    "commu_arduino(\"set_paradigm -tone -epoch 3 -start 480.0 -end 510.0\")\n",
    "commu_arduino(\"set_paradigm -shocker -epoch 0 -start 149.5 -end 150.0\")\n",
    "commu_arduino(\"set_paradigm -shocker -epoch 1 -start 239.5 -end 240.0\")\n",
    "commu_arduino(\"set_paradigm -shocker -epoch 2 -start 389.5 -end 390.0\")\n",
    "commu_arduino(\"set_paradigm -shocker -epoch 3 -start 509.5 -end 510.0\")\n",
    "commu_arduino(\"set_paradigm -list\")"
   ]
  },
  {
   "cell_type": "code",
   "execution_count": 2,
   "metadata": {},
   "outputs": [
    {
     "name": "stdout",
     "output_type": "stream",
     "text": [
      "paradigm name: Test_for_Cue\n",
      "paradigm duration: 180.00 sec\n",
      "tone epoch 0 tone_start: 60.00 sec, tone_end: 180.00 sec\n",
      "tone epoch 1 tone_start: -0.00 sec, tone_end: -0.00 sec\n",
      "tone epoch 2 tone_start: -0.00 sec, tone_end: -0.00 sec\n",
      "tone epoch 3 tone_start: -0.00 sec, tone_end: -0.00 sec\n",
      "tone epoch 4 tone_start: -0.00 sec, tone_end: -0.00 sec\n",
      "shocker epoch 0 shocker_start: -0.00 sec, shocker_end: -0.00 sec\n",
      "shocker epoch 1 shocker_start: -0.00 sec, shocker_end: -0.00 sec\n",
      "shocker epoch 2 shocker_start: -0.00 sec, shocker_end: -0.00 sec\n",
      "shocker epoch 3 shocker_start: -0.00 sec, shocker_end: -0.00 sec\n",
      "shocker epoch 4 shocker_start: -0.00 sec, shocker_end: -0.00 sec\n",
      "\n"
     ]
    }
   ],
   "source": [
    "# Test for Cue\n",
    "commu_arduino(\"set_paradigm -clear\")\n",
    "commu_arduino(\"set_paradigm -paradigm_name Test_for_Cue\")\n",
    "commu_arduino(\"set_paradigm -paradigm_duration 180.0\")\n",
    "commu_arduino(\"set_paradigm -tone -epoch 0 -start 60.0 -end 180.0\")\n",
    "commu_arduino(\"set_paradigm -list\")"
   ]
  },
  {
   "cell_type": "code",
   "execution_count": 2,
   "metadata": {},
   "outputs": [
    {
     "name": "stdout",
     "output_type": "stream",
     "text": [
      "paradigm name: Short_paradigm_for_debug\n",
      "paradigm duration: 15.00 sec\n",
      "tone epoch 0 tone_start: 5.00 sec, tone_end: 8.00 sec\n",
      "tone epoch 1 tone_start: -0.00 sec, tone_end: -0.00 sec\n",
      "tone epoch 2 tone_start: -0.00 sec, tone_end: -0.00 sec\n",
      "tone epoch 3 tone_start: -0.00 sec, tone_end: -0.00 sec\n",
      "tone epoch 4 tone_start: -0.00 sec, tone_end: -0.00 sec\n",
      "shocker epoch 0 shocker_start: 7.50 sec, shocker_end: 10.00 sec\n",
      "shocker epoch 1 shocker_start: -0.00 sec, shocker_end: -0.00 sec\n",
      "shocker epoch 2 shocker_start: -0.00 sec, shocker_end: -0.00 sec\n",
      "shocker epoch 3 shocker_start: -0.00 sec, shocker_end: -0.00 sec\n",
      "shocker epoch 4 shocker_start: -0.00 sec, shocker_end: -0.00 sec\n",
      "\n"
     ]
    }
   ],
   "source": [
    "# Short paradigm for debug\n",
    "commu_arduino(\"set_paradigm -clear\")\n",
    "commu_arduino(\"set_paradigm -paradigm_name Short_paradigm_for_debug\")\n",
    "commu_arduino(\"set_paradigm -paradigm_duration 15.0\")\n",
    "commu_arduino(\"set_paradigm -tone -epoch 0 -start 5.0 -end 8.0\")\n",
    "commu_arduino(\"set_paradigm -shocker -epoch 0 -start 7.5 -end 10.0\")\n",
    "commu_arduino(\"set_paradigm -list\")"
   ]
  },
  {
   "cell_type": "code",
   "execution_count": 67,
   "metadata": {},
   "outputs": [
    {
     "name": "stdout",
     "output_type": "stream",
     "text": [
      "paradigm name: Test_for_Cue\n",
      "paradigm duration: -0.00 sec\n",
      "tone epoch 0 tone_start: -0.00 sec, tone_end: -0.00 sec\n",
      "tone epoch 1 tone_start: -0.00 sec, tone_end: -0.00 sec\n",
      "tone epoch 2 tone_start: -0.00 sec, tone_end: -0.00 sec\n",
      "tone epoch 3 tone_start: -0.00 sec, tone_end: -0.00 sec\n",
      "tone epoch 4 tone_start: -0.00 sec, tone_end: -0.00 sec\n",
      "shocker epoch 0 shocker_start: -0.00 sec, shocker_end: -0.00 sec\n",
      "shocker epoch 1 shocker_start: -0.00 sec, shocker_end: -0.00 sec\n",
      "shocker epoch 2 shocker_start: -0.00 sec, shocker_end: -0.00 sec\n",
      "shocker epoch 3 shocker_start: -0.00 sec, shocker_end: -0.00 sec\n",
      "shocker epoch 4 shocker_start: -0.00 sec, shocker_end: -0.00 sec\n",
      "\n"
     ]
    }
   ],
   "source": [
    "# reset paradigm table\n",
    "commu_arduino(\"set_paradigm -clear\")\n",
    "commu_arduino(\"set_paradigm -list\")"
   ]
  },
  {
   "cell_type": "markdown",
   "metadata": {},
   "source": [
    "### Step 3. Adjust tone volume\n",
    "    set_tone -tone_volume 30 [range:0-50]\n",
    "    set_tone -UART"
   ]
  },
  {
   "cell_type": "code",
   "execution_count": 3,
   "metadata": {},
   "outputs": [],
   "source": [
    "tone_volume = 50\n",
    "\n",
    "# Do not modify the followings\n",
    "commu_arduino(\"set_tone -tone_volume \" + str(tone_volume))"
   ]
  },
  {
   "cell_type": "markdown",
   "metadata": {},
   "source": [
    "### Step 4. Adjust camera frame rate (fps), exposure time (ms) and focus.\n",
    "    Defaults: 33 fps (frame interval: 30 ms), exposeure time: 20 ms"
   ]
  },
  {
   "cell_type": "markdown",
   "metadata": {},
   "source": [
    "#### Start camera\n",
    "    Set cameraNum"
   ]
  },
  {
   "cell_type": "code",
   "execution_count": 4,
   "metadata": {
    "scrolled": true
   },
   "outputs": [
    {
     "name": "stdout",
     "output_type": "stream",
     "text": [
      "Starting camera_1Starting camera_2\n",
      "Camera image shape: 640x480\n",
      "\n",
      "Camera image shape: 640x480\n",
      "Gain: 18Gain: 18\n",
      "\n",
      "DigitalGain: 128DigitalGain: 128\n",
      "\n",
      "Dropped a frame 2186947Dropped a frame 2186947\n",
      "\n"
     ]
    }
   ],
   "source": [
    "cameraNum = 2\n",
    "\n",
    "# Do not modify the following\n",
    "savePath = r''    # '' means not to save movie\n",
    "fps = 4           # fps = 5 is dummy\n",
    "gain = 18         # 0-255 (-2.36 - 32.30 dB, 18: 0.02 dB)\n",
    "digital_gain = 128 # 64-255 (x1 - x3.98)\n",
    "\n",
    "commu_arduino(\"set_camera -cameras_number \" + str(cameraNum))\n",
    "commu_arduino(\"set_camera -start\")\n",
    "\n",
    "ca.live_movie(cameraNum, fps, savePath, gain, digital_gain)"
   ]
  },
  {
   "cell_type": "code",
   "execution_count": 6,
   "metadata": {},
   "outputs": [
    {
     "name": "stdout",
     "output_type": "stream",
     "text": [
      "Starting Firefly FFY-U3-16S2C\n",
      "Starting Firefly FFY-U3-16S2M\n",
      "gain:  1.0\n",
      "gain:  1.0\n"
     ]
    }
   ],
   "source": [
    "ca.live_movie()"
   ]
  },
  {
   "cell_type": "code",
   "execution_count": 7,
   "metadata": {},
   "outputs": [
    {
     "name": "stdout",
     "output_type": "stream",
     "text": [
      "> set_camera -start\n",
      "Camera status: 1, fps: 59, exposure: 5.00 ms, cycle duration: 16.95 ms\n",
      "\n"
     ]
    }
   ],
   "source": [
    "commu_arduino(\"set_camera -start\")"
   ]
  },
  {
   "cell_type": "code",
   "execution_count": 8,
   "metadata": {},
   "outputs": [
    {
     "name": "stdout",
     "output_type": "stream",
     "text": [
      "> set_camera -fps 30\n",
      "Camera status: 1, fps: 30, exposure: 5.00 ms, cycle duration: 33.33 ms\n",
      "\n"
     ]
    }
   ],
   "source": [
    "commu_arduino(\"set_camera -fps 30\")"
   ]
  },
  {
   "cell_type": "code",
   "execution_count": 9,
   "metadata": {},
   "outputs": [
    {
     "name": "stdout",
     "output_type": "stream",
     "text": [
      "> set_camera -exposure 30\n",
      "Camera status: 1, fps: 30, exposure: 30.00 ms, cycle duration: 33.33 ms\n",
      "\n"
     ]
    }
   ],
   "source": [
    "commu_arduino(\"set_camera -exposure 30\")"
   ]
  },
  {
   "cell_type": "code",
   "execution_count": 5,
   "metadata": {},
   "outputs": [
    {
     "name": "stdout",
     "output_type": "stream",
     "text": [
      "> set_camera -stop\n",
      "\n"
     ]
    }
   ],
   "source": [
    "commu_arduino(\"set_camera -stop\")"
   ]
  },
  {
   "cell_type": "markdown",
   "metadata": {},
   "source": [
    "#### Adjust fps and exposure time (ms)\n",
    "    Set fps and exposure"
   ]
  },
  {
   "cell_type": "code",
   "execution_count": 10,
   "metadata": {
    "scrolled": true
   },
   "outputs": [
    {
     "name": "stdout",
     "output_type": "stream",
     "text": [
      "> set_camera -fps 4 -exposure 20\n",
      "Camera status: 1, fps: 4, exposure: 30.00 ms, cycle duration: 250.00 ms\n",
      "Camera status: 1, fps: 4, exposure: 20.00 ms, cycle duration: 250.00 ms\n",
      "\n",
      "> set_camera -status\n",
      "Camera status: 1, fps: 4, exposure: 20.00 ms, cycle duration: 250.00 ms\n",
      "\n"
     ]
    }
   ],
   "source": [
    "fps = 4\n",
    "exposure = 20\n",
    "\n",
    "# Do not modify the followings\n",
    "commu_arduino(\"set_camera -fps \" + str(fps) + \" -exposure \" + str(exposure))\n",
    "commu_arduino(\"set_camera -status\")"
   ]
  },
  {
   "cell_type": "markdown",
   "metadata": {},
   "source": [
    "#### Stop cameras\n",
    "    Preview windows will automatically close after 5 timeout."
   ]
  },
  {
   "cell_type": "code",
   "execution_count": 8,
   "metadata": {},
   "outputs": [
    {
     "name": "stdout",
     "output_type": "stream",
     "text": [
      "Failed to transfer image from camera.Failed to transfer image from camera.  Failed to transfer image from camera.Failed to transfer image from camera.  "
     ]
    }
   ],
   "source": [
    "commu_arduino(\"set_camera -stop\")"
   ]
  },
  {
   "cell_type": "markdown",
   "metadata": {},
   "source": [
    "### Step 5. Start paradigm"
   ]
  },
  {
   "cell_type": "markdown",
   "metadata": {},
   "source": [
    "#### Output file which document the paradigm condition\n",
    "    Set output directory (savePath)\n",
    "    You need to create the output directory in advance."
   ]
  },
  {
   "cell_type": "code",
   "execution_count": 11,
   "metadata": {},
   "outputs": [
    {
     "name": "stdout",
     "output_type": "stream",
     "text": [
      "Starting camera_1Starting camera_2\n",
      "Camera image shape: 640x480\n",
      "\n",
      "Camera image shape: 640x480\n",
      "Gain: 18\n",
      "DigitalGain: 128\n",
      "Gain: 18\n",
      "DigitalGain: 128\n",
      "Starting paradigm ...\n",
      "... Press Blue Button to start the protocol ...\n",
      "\n",
      "Failed to transfer image from camera.Failed to transfer image from camera.  Failed to transfer image from camera.Failed to transfer image from camera.  Failed to transfer image from camera.Failed to transfer image from camera.  Dropped a frame 2192010Dropped a frame 2192010\n",
      "\n",
      "Failed to transfer image from camera.Failed to transfer image from camera.  Failed to transfer image from camera.Failed to transfer image from camera.  "
     ]
    }
   ],
   "source": [
    "savePath = r'C:\\Users\\User\\Desktop\\project'\n",
    "\n",
    "# Do not modify the followings\n",
    "import datetime\n",
    "import os\n",
    "\n",
    "commu_arduino(\"\")\n",
    "commu_arduino(\"\")\n",
    "\n",
    "x = datetime.datetime.now()\n",
    "savePath += x.strftime(\"\\\\%Y%m%d-%H%M%S\")\n",
    "\n",
    "if not os.path.exists(savePath):\n",
    "    os.mkdir(savePath)\n",
    "\n",
    "prefixFileName = os.path.split(savePath)[1]\n",
    "outputFileName = os.path.join(savePath, prefixFileName + \"_\" + \"output.txt\")\n",
    "\n",
    "import sys\n",
    "\n",
    "orig_stdout = sys.stdout\n",
    "f = open(outputFileName, 'w')\n",
    "sys.stdout = f\n",
    "\n",
    "print(\"1. savePath:          \" + savePath)\n",
    "print(\"2. date:              \" + str(datetime.datetime.now()))\n",
    "print(\"3. tone volume:       \" + str(tone_volume))\n",
    "print(\"4. camera settings:   \")\n",
    "commu_arduino(\"set_camera -status\")\n",
    "print(\"5. paradigm table:    \")\n",
    "commu_arduino(\"set_paradigm -list\")\n",
    "\n",
    "sys.stdout = orig_stdout\n",
    "f.close()\n",
    "\n",
    "ca.live_movie(cameraNum, fps, savePath, gain, digital_gain)\n",
    "#commu_arduino(\"start paradigm\")\n",
    "commu_arduino(\"start paradigm -button\")"
   ]
  },
  {
   "cell_type": "code",
   "execution_count": 12,
   "metadata": {},
   "outputs": [
    {
     "name": "stdout",
     "output_type": "stream",
     "text": [
      "Started !\n",
      "To abort, press RED button.\n",
      "Aborted\n",
      "number of loops: 545148\n",
      "<100us : 349740, 100us-1ms: 195409, 1ms-10ms: 0, 10-100ms: 0, 100ms<: 0\n"
     ]
    }
   ],
   "source": [
    "commu_arduino(\"\")"
   ]
  },
  {
   "cell_type": "markdown",
   "metadata": {},
   "source": [
    "### Step 6. compress videos."
   ]
  },
  {
   "cell_type": "code",
   "execution_count": null,
   "metadata": {},
   "outputs": [],
   "source": [
    "import os\n",
    "import ffmpeg\n",
    "\n",
    "#path = os.getcwd()\n",
    "#print(path)\n",
    "\n",
    "path = savePath\n",
    "\n",
    "os.chdir(path)\n",
    "print(os.listdir(path))\n",
    "\n",
    "for file in os.listdir(path):\n",
    "    base = os.path.splitext(file)[0]\n",
    "    extn = os.path.splitext(file)[1]\n",
    "    if extn == '.mp4':\n",
    "        # !ffmpeg -i {file} -vf \"transpose=2,transpose=2\" -vcodec libx264 {base}.mp4\n",
    "        fileIN = os.path.join(path,file)\n",
    "        print('file = ', fileIN, end = ' ')\n",
    "        stream = ffmpeg.input(fileIN)\n",
    "        # stream = ffmpeg.hflip(stream)\n",
    "        # stream = ffmpeg.vflip(stream)\n",
    "        fileOUT = os.path.join(path,base) + '_converted' + '.mp4'\n",
    "        print('---> output = ', fileOUT)\n",
    "        stream = ffmpeg.output(stream, fileOUT, vcodec='libx264')\n",
    "        ffmpeg.run(stream)\n",
    "        \n",
    "        #os.remove(fileIN)\n",
    "        #os.rename(fileOUT, fileIN)\n",
    "print('end')"
   ]
  },
  {
   "cell_type": "markdown",
   "metadata": {},
   "source": [
    "### Step 7. Disconnect PCBox"
   ]
  },
  {
   "cell_type": "code",
   "execution_count": 1,
   "metadata": {},
   "outputs": [
    {
     "ename": "NameError",
     "evalue": "name 'arduino' is not defined",
     "output_type": "error",
     "traceback": [
      "\u001b[1;31m---------------------------------------------------------------------------\u001b[0m",
      "\u001b[1;31mNameError\u001b[0m                                 Traceback (most recent call last)",
      "\u001b[1;32m<ipython-input-1-9331bc397856>\u001b[0m in \u001b[0;36m<module>\u001b[1;34m\u001b[0m\n\u001b[1;32m----> 1\u001b[1;33m \u001b[0marduino\u001b[0m\u001b[1;33m.\u001b[0m\u001b[0mclose\u001b[0m\u001b[1;33m(\u001b[0m\u001b[1;33m)\u001b[0m\u001b[1;33m\u001b[0m\u001b[1;33m\u001b[0m\u001b[0m\n\u001b[0m",
      "\u001b[1;31mNameError\u001b[0m: name 'arduino' is not defined"
     ]
    }
   ],
   "source": [
    "arduino.close()"
   ]
  }
 ],
 "metadata": {
  "kernelspec": {
   "display_name": "Python 3 (ipykernel)",
   "language": "python",
   "name": "python3"
  },
  "language_info": {
   "codemirror_mode": {
    "name": "ipython",
    "version": 3
   },
   "file_extension": ".py",
   "mimetype": "text/x-python",
   "name": "python",
   "nbconvert_exporter": "python",
   "pygments_lexer": "ipython3",
   "version": "3.8.13"
  }
 },
 "nbformat": 4,
 "nbformat_minor": 4
}
